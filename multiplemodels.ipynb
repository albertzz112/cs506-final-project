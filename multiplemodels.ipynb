{
 "cells": [
  {
   "cell_type": "markdown",
   "metadata": {},
   "source": [
    "# Multiple Models"
   ]
  },
  {
   "cell_type": "code",
   "execution_count": 1,
   "metadata": {},
   "outputs": [],
   "source": [
    "import pandas as pd\n",
    "from sklearn.model_selection import train_test_split\n",
    "from sklearn.ensemble import RandomForestRegressor\n",
    "from sklearn.metrics import r2_score, mean_absolute_error"
   ]
  },
  {
   "cell_type": "code",
   "execution_count": 2,
   "metadata": {},
   "outputs": [],
   "source": [
    "# Load the cleaned dataset\n",
    "df = pd.read_csv(\"data/data_cleaned.csv\")\n",
    "# Sample 1% of the dataset\n",
    "df = df.sample(frac=0.01, random_state=42)"
   ]
  },
  {
   "cell_type": "code",
   "execution_count": 3,
   "metadata": {},
   "outputs": [],
   "source": [
    "# Step 1: Separate the DataFrame into two subsets\n",
    "df_below_50 = df[df['ARR_DELAY'] < 50]\n",
    "df_above_50 = df[df['ARR_DELAY'] >= 50]"
   ]
  },
  {
   "cell_type": "code",
   "execution_count": 4,
   "metadata": {},
   "outputs": [],
   "source": [
    "# Step 2: Define a function to train a Random Forest model and evaluate it\n",
    "def train_and_evaluate_model(data, target_column):\n",
    "    X = data.drop(columns=[target_column])\n",
    "    y = data[target_column]\n",
    "    # One-hot encode categorical variables\n",
    "    X = pd.get_dummies(X, drop_first=True)\n",
    "    # Split the data into training and testing sets (80% train, 20% test)\n",
    "    X_train, X_test, y_train, y_test = train_test_split(X, y, test_size=0.2, random_state=42)\n",
    "\n",
    "    # Initialize and train the Random Forest model\n",
    "    model = RandomForestRegressor(n_estimators=100, random_state=42)\n",
    "    model.fit(X_train, y_train)\n",
    "\n",
    "    # Make predictions\n",
    "    y_pred = model.predict(X_test)\n",
    "\n",
    "    # Calculate evaluation metrics\n",
    "    r2 = r2_score(y_test, y_pred)\n",
    "    mae = mean_absolute_error(y_test, y_pred)\n",
    "\n",
    "    return r2, mae"
   ]
  },
  {
   "cell_type": "code",
   "execution_count": 5,
   "metadata": {},
   "outputs": [
    {
     "name": "stdout",
     "output_type": "stream",
     "text": [
      "Model evaluation for ARR_DELAY < 50:\n",
      "R²: 0.12, MAE: 11.67\n",
      "Model evaluation for ARR_DELAY >= 50:\n",
      "R²: -0.19, MAE: 33.34\n"
     ]
    }
   ],
   "source": [
    "# Step 3: Train and evaluate the model for arrival delays below 50 minutes\n",
    "print(\"Model evaluation for ARR_DELAY < 50:\")\n",
    "r2_below_50, mae_below_50 = train_and_evaluate_model(df_below_50, 'ARR_DELAY')\n",
    "print(f\"R²: {r2_below_50:.2f}, MAE: {mae_below_50:.2f}\")\n",
    "\n",
    "# Step 4: Train and evaluate the model for arrival delays above or equal to 50 minutes\n",
    "print(\"Model evaluation for ARR_DELAY >= 50:\")\n",
    "r2_above_50, mae_above_50 = train_and_evaluate_model(df_above_50, 'ARR_DELAY')\n",
    "print(f\"R²: {r2_above_50:.2f}, MAE: {mae_above_50:.2f}\")\n"
   ]
  }
 ],
 "metadata": {
  "kernelspec": {
   "display_name": "Python 3",
   "language": "python",
   "name": "python3"
  },
  "language_info": {
   "codemirror_mode": {
    "name": "ipython",
    "version": 3
   },
   "file_extension": ".py",
   "mimetype": "text/x-python",
   "name": "python",
   "nbconvert_exporter": "python",
   "pygments_lexer": "ipython3",
   "version": "3.11.5"
  }
 },
 "nbformat": 4,
 "nbformat_minor": 2
}
