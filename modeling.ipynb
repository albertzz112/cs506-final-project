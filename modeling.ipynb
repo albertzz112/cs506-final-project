{
 "cells": [
  {
   "cell_type": "markdown",
   "metadata": {},
   "source": [
    "# Modeling"
   ]
  },
  {
   "cell_type": "code",
   "execution_count": 12,
   "metadata": {},
   "outputs": [],
   "source": [
    "import pandas as pd\n",
    "import numpy as np\n",
    "import seaborn as sns\n",
    "import matplotlib.pyplot as plt\n",
    "from sklearn.model_selection import train_test_split\n",
    "from sklearn.ensemble import RandomForestRegressor\n",
    "from sklearn.metrics import mean_absolute_error, r2_score\n",
    "\n",
    "# Ensure plots are displayed within the notebook\n",
    "%matplotlib inline"
   ]
  },
  {
   "cell_type": "code",
   "execution_count": 13,
   "metadata": {},
   "outputs": [],
   "source": [
    "# Load the dataset\n",
    "df = pd.read_csv(\"data/data_cleaned.csv\")"
   ]
  },
  {
   "cell_type": "code",
   "execution_count": 14,
   "metadata": {},
   "outputs": [
    {
     "data": {
      "text/html": [
       "<div>\n",
       "<style scoped>\n",
       "    .dataframe tbody tr th:only-of-type {\n",
       "        vertical-align: middle;\n",
       "    }\n",
       "\n",
       "    .dataframe tbody tr th {\n",
       "        vertical-align: top;\n",
       "    }\n",
       "\n",
       "    .dataframe thead th {\n",
       "        text-align: right;\n",
       "    }\n",
       "</style>\n",
       "<table border=\"1\" class=\"dataframe\">\n",
       "  <thead>\n",
       "    <tr style=\"text-align: right;\">\n",
       "      <th></th>\n",
       "      <th>AIRLINE</th>\n",
       "      <th>DAY_OF_WEEK</th>\n",
       "      <th>MONTH</th>\n",
       "      <th>DEST</th>\n",
       "      <th>ORIGIN</th>\n",
       "      <th>DEP_HOUR</th>\n",
       "      <th>DISTANCE</th>\n",
       "      <th>AIR_TIME</th>\n",
       "      <th>ELAPSED_TIME</th>\n",
       "      <th>MONTHLY_DELAY_INDICATOR</th>\n",
       "      <th>ROUTE_DELAY_INDICATOR</th>\n",
       "      <th>ARR_DELAY</th>\n",
       "    </tr>\n",
       "  </thead>\n",
       "  <tbody>\n",
       "    <tr>\n",
       "      <th>0</th>\n",
       "      <td>United Air Lines Inc.</td>\n",
       "      <td>2</td>\n",
       "      <td>1</td>\n",
       "      <td>EWR</td>\n",
       "      <td>FLL</td>\n",
       "      <td>11</td>\n",
       "      <td>1065.0</td>\n",
       "      <td>153.0</td>\n",
       "      <td>176.0</td>\n",
       "      <td>-1.000000</td>\n",
       "      <td>0.263236</td>\n",
       "      <td>-14.0</td>\n",
       "    </tr>\n",
       "    <tr>\n",
       "      <th>1</th>\n",
       "      <td>Spirit Air Lines</td>\n",
       "      <td>6</td>\n",
       "      <td>3</td>\n",
       "      <td>IAH</td>\n",
       "      <td>DEN</td>\n",
       "      <td>15</td>\n",
       "      <td>862.0</td>\n",
       "      <td>110.0</td>\n",
       "      <td>139.0</td>\n",
       "      <td>-0.877541</td>\n",
       "      <td>0.232799</td>\n",
       "      <td>-13.0</td>\n",
       "    </tr>\n",
       "    <tr>\n",
       "      <th>2</th>\n",
       "      <td>American Airlines Inc.</td>\n",
       "      <td>4</td>\n",
       "      <td>6</td>\n",
       "      <td>DFW</td>\n",
       "      <td>SLC</td>\n",
       "      <td>6</td>\n",
       "      <td>989.0</td>\n",
       "      <td>127.0</td>\n",
       "      <td>151.0</td>\n",
       "      <td>1.000000</td>\n",
       "      <td>0.148767</td>\n",
       "      <td>-11.0</td>\n",
       "    </tr>\n",
       "    <tr>\n",
       "      <th>3</th>\n",
       "      <td>American Airlines Inc.</td>\n",
       "      <td>5</td>\n",
       "      <td>11</td>\n",
       "      <td>ORD</td>\n",
       "      <td>DFW</td>\n",
       "      <td>18</td>\n",
       "      <td>801.0</td>\n",
       "      <td>106.0</td>\n",
       "      <td>131.0</td>\n",
       "      <td>-0.814371</td>\n",
       "      <td>0.187652</td>\n",
       "      <td>-9.0</td>\n",
       "    </tr>\n",
       "    <tr>\n",
       "      <th>4</th>\n",
       "      <td>Delta Air Lines Inc.</td>\n",
       "      <td>5</td>\n",
       "      <td>6</td>\n",
       "      <td>ATL</td>\n",
       "      <td>DTW</td>\n",
       "      <td>13</td>\n",
       "      <td>594.0</td>\n",
       "      <td>100.0</td>\n",
       "      <td>116.0</td>\n",
       "      <td>1.000000</td>\n",
       "      <td>-0.023691</td>\n",
       "      <td>-3.0</td>\n",
       "    </tr>\n",
       "  </tbody>\n",
       "</table>\n",
       "</div>"
      ],
      "text/plain": [
       "                  AIRLINE  DAY_OF_WEEK  MONTH DEST ORIGIN  DEP_HOUR  DISTANCE  \\\n",
       "0   United Air Lines Inc.            2      1  EWR    FLL        11    1065.0   \n",
       "1        Spirit Air Lines            6      3  IAH    DEN        15     862.0   \n",
       "2  American Airlines Inc.            4      6  DFW    SLC         6     989.0   \n",
       "3  American Airlines Inc.            5     11  ORD    DFW        18     801.0   \n",
       "4    Delta Air Lines Inc.            5      6  ATL    DTW        13     594.0   \n",
       "\n",
       "   AIR_TIME  ELAPSED_TIME  MONTHLY_DELAY_INDICATOR  ROUTE_DELAY_INDICATOR  \\\n",
       "0     153.0         176.0                -1.000000               0.263236   \n",
       "1     110.0         139.0                -0.877541               0.232799   \n",
       "2     127.0         151.0                 1.000000               0.148767   \n",
       "3     106.0         131.0                -0.814371               0.187652   \n",
       "4     100.0         116.0                 1.000000              -0.023691   \n",
       "\n",
       "   ARR_DELAY  \n",
       "0      -14.0  \n",
       "1      -13.0  \n",
       "2      -11.0  \n",
       "3       -9.0  \n",
       "4       -3.0  "
      ]
     },
     "execution_count": 14,
     "metadata": {},
     "output_type": "execute_result"
    }
   ],
   "source": [
    "df.head()"
   ]
  },
  {
   "cell_type": "code",
   "execution_count": 15,
   "metadata": {},
   "outputs": [
    {
     "name": "stdout",
     "output_type": "stream",
     "text": [
      "53136\n"
     ]
    }
   ],
   "source": [
    "df = df.sample(frac=0.01, random_state=42)\n",
    "print(df.size)"
   ]
  },
  {
   "cell_type": "code",
   "execution_count": 16,
   "metadata": {},
   "outputs": [],
   "source": [
    "# Separate features and target variable\n",
    "X = df.drop(columns=['ARR_DELAY'])  # Features\n",
    "y = df['ARR_DELAY']  # Target variable\n",
    "\n",
    "# One-hot encode categorical variables\n",
    "X = pd.get_dummies(X, drop_first=True)"
   ]
  },
  {
   "cell_type": "code",
   "execution_count": 17,
   "metadata": {},
   "outputs": [],
   "source": [
    "# Split the data into training and testing sets\n",
    "X_train, X_test, y_train, y_test = train_test_split(X, y, test_size=0.2, random_state=1)"
   ]
  },
  {
   "cell_type": "code",
   "execution_count": 18,
   "metadata": {},
   "outputs": [],
   "source": [
    "# Initialize the Random Forest Regressor\n",
    "model = RandomForestRegressor(n_estimators=100, random_state=1)\n",
    "\n",
    "# Train the model\n",
    "model.fit(X_train, y_train)\n",
    "\n",
    "# Make predictions\n",
    "y_pred = model.predict(X_test)"
   ]
  },
  {
   "cell_type": "code",
   "execution_count": 19,
   "metadata": {},
   "outputs": [
    {
     "name": "stdout",
     "output_type": "stream",
     "text": [
      "Mean Absolute Error: 19.61242663656885\n",
      "R-squared: 0.07474442336936693\n"
     ]
    }
   ],
   "source": [
    "# Evaluate the model\n",
    "mae = mean_absolute_error(y_test, y_pred)\n",
    "r2 = r2_score(y_test, y_pred)\n",
    "\n",
    "print(f\"Mean Absolute Error: {mae}\")\n",
    "print(f\"R-squared: {r2}\")"
   ]
  },
  {
   "cell_type": "code",
   "execution_count": 20,
   "metadata": {},
   "outputs": [
    {
     "name": "stdout",
     "output_type": "stream",
     "text": [
      "Mean Arrival Delay (Simple Average): 1.11\n",
      "Mean Absolute Error of Simple Average Model: 20.20\n",
      "R-squared of Simple Average Model: 0.00\n"
     ]
    }
   ],
   "source": [
    "# Step 1: Calculate the mean of the target variable\n",
    "mean_arr_delay = df['ARR_DELAY'].mean()\n",
    "\n",
    "# Step 2: Create predictions based on the mean\n",
    "df['PREDICTION_SIMPLE_AVG'] = mean_arr_delay\n",
    "\n",
    "# Step 3: Calculate evaluation metrics\n",
    "mae_simple_avg = mean_absolute_error(df['ARR_DELAY'], df['PREDICTION_SIMPLE_AVG'])\n",
    "r2_simple_avg = r2_score(df['ARR_DELAY'], df['PREDICTION_SIMPLE_AVG'])\n",
    "\n",
    "# Output the results\n",
    "print(f\"Mean Arrival Delay (Simple Average): {mean_arr_delay:.2f}\")\n",
    "print(f\"Mean Absolute Error of Simple Average Model: {mae_simple_avg:.2f}\")\n",
    "print(f\"R-squared of Simple Average Model: {r2_simple_avg:.2f}\")\n"
   ]
  }
 ],
 "metadata": {
  "kernelspec": {
   "display_name": "Python 3",
   "language": "python",
   "name": "python3"
  },
  "language_info": {
   "codemirror_mode": {
    "name": "ipython",
    "version": 3
   },
   "file_extension": ".py",
   "mimetype": "text/x-python",
   "name": "python",
   "nbconvert_exporter": "python",
   "pygments_lexer": "ipython3",
   "version": "3.11.5"
  }
 },
 "nbformat": 4,
 "nbformat_minor": 2
}
